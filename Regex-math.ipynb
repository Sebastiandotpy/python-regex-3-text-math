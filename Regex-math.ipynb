{
 "cells": [
  {
   "cell_type": "code",
   "execution_count": 1,
   "metadata": {},
   "outputs": [
    {
     "name": "stdout",
     "output_type": "stream",
     "text": [
      "Input: 4 + 4            Is Math Expression: True  Result: 8\n",
      "Input: 9 * 1            Is Math Expression: True  Result: 9\n",
      "Input: hello world      Is Math Expression: False\n",
      "Input: 123              Is Math Expression: False\n",
      "Input: 5 + foo          Is Math Expression: False\n"
     ]
    }
   ],
   "source": [
    "import re\n",
    "\n",
    "def check_math_expression(input_str):\n",
    "    \"\"\"\n",
    "    Checks if the input string is a valid mathematical expression.\n",
    "\n",
    "    Args:\n",
    "        input_str (str): The input string.\n",
    "\n",
    "    Returns:\n",
    "        bool: True if the input is a valid mathematical expression, False otherwise.\n",
    "    \"\"\"\n",
    "    pattern = r\"^\\s*\\d+\\s*[-+*/%]\\s*\\d+\\s*$\"  # Regular expression pattern for valid expressions\n",
    "    match = re.match(pattern, input_str)\n",
    "    is_math_expression = bool(match)\n",
    "\n",
    "    if is_math_expression:\n",
    "        result = eval(input_str)\n",
    "        print(f\"Input: {input_str:<15}  Is Math Expression: True  Result: {result}\")\n",
    "    else:\n",
    "        print(f\"Input: {input_str:<15}  Is Math Expression: False\")\n",
    "\n",
    "    return is_math_expression\n",
    "\n",
    "# Testing the function with example inputs\n",
    "inputs = [\n",
    "    \"5 + 2\",\n",
    "    \"9 * 1\",\n",
    "    \"hello world\",\n",
    "    \"123\",\n",
    "    \"5 + foo\"\n",
    "]\n",
    "\n",
    "for input_str in inputs:\n",
    "    check_math_expression(input_str)\n"
   ]
  }
 ],
 "metadata": {
  "kernelspec": {
   "display_name": "Python 3",
   "language": "python",
   "name": "python3"
  },
  "language_info": {
   "codemirror_mode": {
    "name": "ipython",
    "version": 3
   },
   "file_extension": ".py",
   "mimetype": "text/x-python",
   "name": "python",
   "nbconvert_exporter": "python",
   "pygments_lexer": "ipython3",
   "version": "3.11.3"
  },
  "orig_nbformat": 4
 },
 "nbformat": 4,
 "nbformat_minor": 2
}
